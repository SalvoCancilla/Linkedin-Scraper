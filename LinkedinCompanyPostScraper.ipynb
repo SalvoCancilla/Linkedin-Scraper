{
 "cells": [
  {
   "attachments": {},
   "cell_type": "markdown",
   "metadata": {},
   "source": [
    "# This scraper returns user comments to posts, where the searched company is tagged on Linkedin\n",
    "# Useful for a sentiment analysis"
   ]
  },
  {
   "cell_type": "code",
   "execution_count": null,
   "metadata": {},
   "outputs": [],
   "source": [
    "import pandas as pd\n",
    "import numpy as np\n",
    "\n",
    "from getpass import getpass\n",
    "from selenium import webdriver\n",
    "from selenium.webdriver.common.by import By\n",
    "from selenium.webdriver.common.keys import Keys\n",
    "from selenium.webdriver.support.ui import WebDriverWait\n",
    "from selenium.webdriver.support import expected_conditions as EC\n",
    "\n",
    "import time"
   ]
  },
  {
   "attachments": {},
   "cell_type": "markdown",
   "metadata": {},
   "source": [
    "## Login and Company Search\n",
    "#### Put a Linkedin username / password and write the company brand"
   ]
  },
  {
   "cell_type": "code",
   "execution_count": null,
   "metadata": {},
   "outputs": [],
   "source": [
    "username = input(\"USERNAME: \")\n",
    "password = getpass(\"PASSWORD: \")\n",
    "azienda = input(\"COMPANY: \")\n",
    "\n",
    "driver = webdriver.Chrome()\n",
    "driver.get('https://www.linkedin.com')\n",
    "username_field = driver.find_element(By.ID, 'session_key')\n",
    "password_field = driver.find_element(By.ID, 'session_password')\n",
    "username_field.send_keys(username)\n",
    "password_field.send_keys(password)\n",
    "password_field.send_keys(Keys.ENTER)\n",
    "\n",
    "# Go to company Linkedin page\n",
    "search_bar = WebDriverWait(driver, 10).until(EC.presence_of_element_located((By.XPATH, '//*[@id=\"global-nav-typeahead\"]/input')))\n",
    "search_bar.send_keys(azienda)\n",
    "search_bar.send_keys(Keys.ENTER)\n",
    "\n",
    "# Go to Post section\n",
    "time.sleep(5)\n",
    "posts_section = WebDriverWait(driver, 10).until(EC.presence_of_element_located((By.XPATH, '//*[@id=\"search-reusables__filters-bar\"]/ul/li[1]/button')))\n",
    "posts_section.send_keys(Keys.ENTER)"
   ]
  },
  {
   "attachments": {},
   "cell_type": "markdown",
   "metadata": {},
   "source": [
    "## Scraper"
   ]
  },
  {
   "cell_type": "code",
   "execution_count": null,
   "metadata": {},
   "outputs": [],
   "source": [
    "def scroll_to_bottom():\n",
    "    driver.execute_script(\"window.scrollTo(0, document.body.scrollHeight);\")\n",
    "    time.sleep(2)\n",
    "        \n",
    "def click_load_more_comments():\n",
    "    load_more_comments_buttons = driver.find_elements(By.XPATH, \"//span[@class='artdeco-button__text' and text()='Carica altri commenti']\")\n",
    "    for button in load_more_comments_buttons:\n",
    "        driver.execute_script(\"arguments[0].click();\", button)\n",
    "        time.sleep(2)\n",
    "\n",
    "def get_comments():\n",
    "    new_comments = driver.find_elements(By.XPATH, \"//span[@dir='ltr']\")\n",
    "    updated_comments = []\n",
    "    for comment in new_comments:\n",
    "        updated_comments.append(comment.text)\n",
    "    return updated_comments\n",
    "\n",
    "\n",
    "all_comments = []\n",
    "\n",
    "start_time = time.time()\n",
    "total_time = 400             # Linkedin post page is dynamic, so we need to scroll until enough comments are loaded (for example 7,5 min of scroll = 400 seconds )\n",
    "\n",
    "while True:\n",
    "    scroll_to_bottom()\n",
    "    elapsed_time = time.time() - start_time\n",
    "    if elapsed_time >= total_time:\n",
    "        break\n",
    "click_load_more_comments()\n",
    "time.sleep(60)\n",
    "get_comments()\n",
    "\n",
    "all_comments = get_comments()"
   ]
  },
  {
   "cell_type": "code",
   "execution_count": null,
   "metadata": {},
   "outputs": [],
   "source": [
    "comments_raw=pd.DataFrame(all_comments)\n",
    "comments=comments_raw.copy()\n",
    "comments.info()"
   ]
  }
 ],
 "metadata": {
  "kernelspec": {
   "display_name": "boolean",
   "language": "python",
   "name": "python3"
  },
  "language_info": {
   "name": "python",
   "version": "3.10.9"
  },
  "orig_nbformat": 4
 },
 "nbformat": 4,
 "nbformat_minor": 2
}
